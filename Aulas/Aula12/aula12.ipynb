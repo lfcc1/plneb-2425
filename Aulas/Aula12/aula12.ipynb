{
 "cells": [
  {
   "cell_type": "markdown",
   "id": "cd725a74",
   "metadata": {},
   "source": [
    "### Load case reports"
   ]
  },
  {
   "cell_type": "code",
   "execution_count": 2,
   "id": "a4307ff4",
   "metadata": {},
   "outputs": [
    {
     "data": {
      "text/plain": [
       "(864, 473)"
      ]
     },
     "execution_count": 2,
     "metadata": {},
     "output_type": "execute_result"
    }
   ],
   "source": [
    "import json\n",
    "\n",
    "file_in = open(\"dataset_articles.json\")\n",
    "papers = json.load(file_in)\n",
    "\n",
    "def filter_papers(papers):\n",
    "    res = []\n",
    "    for paper in papers:\n",
    "        if paper[\"abstract\"] and len(paper[\"abstract\"]) > 150 and paper[\"keywords\"] not in [None,\".\"]:\n",
    "            res.append(paper)\n",
    "    return res\n",
    "\n",
    "f_papers = filter_papers(papers)\n",
    "len(papers), len(f_papers)"
   ]
  },
  {
   "cell_type": "markdown",
   "id": "9e63c1f5",
   "metadata": {},
   "source": [
    "### Calculate abstract pairs"
   ]
  },
  {
   "cell_type": "code",
   "execution_count": 3,
   "id": "eb29a2b2",
   "metadata": {},
   "outputs": [
    {
     "data": {
      "text/plain": [
       "['pnemumonia', 'complicações', 'medicina']"
      ]
     },
     "execution_count": 3,
     "metadata": {},
     "output_type": "execute_result"
    }
   ],
   "source": [
    "import re\n",
    "\n",
    "def process_keywords(keyword_s):\n",
    "    keyword_s = keyword_s.lower().strip()\n",
    "    keyword_s = re.sub(r\"\\\\/\",\"/\", keyword_s)\n",
    "    keywords = re.split(r\"[,;/]\",keyword_s)\n",
    "    return [keyword.strip() for keyword in keywords]\n",
    "s = \"pnemumonia\\/complicações, medicina\"\n",
    "\n",
    "process_keywords(s)"
   ]
  },
  {
   "cell_type": "code",
   "execution_count": 4,
   "id": "cd643e5f",
   "metadata": {},
   "outputs": [
    {
     "data": {
      "text/plain": [
       "111628"
      ]
     },
     "execution_count": 4,
     "metadata": {},
     "output_type": "execute_result"
    }
   ],
   "source": [
    "from itertools import combinations\n",
    "import re\n",
    "\n",
    "paper_pairs = []\n",
    "for paper1, paper2 in combinations(f_papers,2):\n",
    "    #keywords1, keywords2 = process_keywords(paper1[\"keywords\"]), process_keywords(paper2[\"keywords\"])\n",
    "    keywords1 = process_keywords(paper1[\"keywords\"])\n",
    "    keywords2 = process_keywords(paper2[\"keywords\"])\n",
    "\n",
    "    score = len( set(keywords1) & set(keywords2))\n",
    "    paper_pairs.append((paper1[\"abstract\"], paper2[\"abstract\"], score))\n",
    "\n",
    "len(paper_pairs)"
   ]
  },
  {
   "cell_type": "code",
   "execution_count": 5,
   "id": "cee88c63",
   "metadata": {},
   "outputs": [
    {
     "data": {
      "text/plain": [
       "Counter({0: 110856, 1: 714, 2: 55, 3: 2, 4: 1})"
      ]
     },
     "execution_count": 5,
     "metadata": {},
     "output_type": "execute_result"
    }
   ],
   "source": [
    "from collections import Counter\n",
    "Counter([score for _,_,score in paper_pairs])"
   ]
  },
  {
   "cell_type": "markdown",
   "id": "ea8cb98b",
   "metadata": {},
   "source": [
    "### Balance similar and non-similar pairs"
   ]
  },
  {
   "cell_type": "code",
   "execution_count": 6,
   "id": "4aa7dbae",
   "metadata": {},
   "outputs": [
    {
     "data": {
      "text/plain": [
       "Counter({0: 772, 1: 714, 2: 55, 3: 2, 4: 1})"
      ]
     },
     "execution_count": 6,
     "metadata": {},
     "output_type": "execute_result"
    }
   ],
   "source": [
    "#Balancear dados\n",
    "from sklearn.utils import resample\n",
    "majority_class = [(a1, a2, score) for a1, a2, score in paper_pairs if score == 0]\n",
    "minority_class = [(a1, a2, score) for a1, a2, score in paper_pairs if score != 0]\n",
    "\n",
    "undersampled_majority_class = resample(majority_class,\n",
    "                                       replace=False,     # Don't duplicate samples\n",
    "                                       n_samples= len(minority_class),  # Match minority \n",
    "                                       random_state=42)\n",
    "\n",
    "balanced_pairs = undersampled_majority_class + minority_class\n",
    "Counter([score for _,_,score in balanced_pairs])"
   ]
  },
  {
   "cell_type": "markdown",
   "id": "d2731368",
   "metadata": {},
   "source": [
    "### Normalize similarity scores"
   ]
  },
  {
   "cell_type": "code",
   "execution_count": 7,
   "id": "98ae4ea6",
   "metadata": {},
   "outputs": [],
   "source": [
    "def normalize_score(score):\n",
    "    if score == 0:\n",
    "        return 0\n",
    "    if score == 1:\n",
    "        return 0.5\n",
    "    if score == 2:\n",
    "        return 0.75\n",
    "    if score >= 3:\n",
    "        return 0.85    \n",
    "balanced_pairs_norm = [(t1,t2,normalize_score(score)) for t1,t2,score in balanced_pairs]\n"
   ]
  },
  {
   "cell_type": "markdown",
   "id": "f7810c61",
   "metadata": {},
   "source": [
    "### Generate test and train split"
   ]
  },
  {
   "cell_type": "code",
   "execution_count": 8,
   "id": "34d65610",
   "metadata": {},
   "outputs": [
    {
     "name": "stdout",
     "output_type": "stream",
     "text": [
      "Counter({0: 618, 0.5: 571, 0.75: 44, 0.85: 2})\n",
      "Counter({0: 154, 0.5: 143, 0.75: 11, 0.85: 1})\n"
     ]
    }
   ],
   "source": [
    "from sklearn.model_selection import train_test_split\n",
    "\n",
    "scores = [score for _, _, score in balanced_pairs_norm]\n",
    "\n",
    "train_data, test_data = train_test_split(\n",
    "balanced_pairs_norm,\n",
    "test_size=0.2,\n",
    "random_state=42,\n",
    "stratify=scores\n",
    ")\n",
    "\n",
    "score_train= Counter([score for _, _, score in train_data])\n",
    "score_test= Counter([score for _, _, score in test_data])\n",
    "print(score_train)\n",
    "print(score_test)"
   ]
  },
  {
   "cell_type": "code",
   "execution_count": 9,
   "id": "952be8f2",
   "metadata": {},
   "outputs": [
    {
     "name": "stderr",
     "output_type": "stream",
     "text": [
      "/home/lfc/.local/lib/python3.8/site-packages/tqdm/auto.py:21: TqdmWarning: IProgress not found. Please update jupyter and ipywidgets. See https://ipywidgets.readthedocs.io/en/stable/user_install.html\n",
      "  from .autonotebook import tqdm as notebook_tqdm\n"
     ]
    },
    {
     "name": "stdout",
     "output_type": "stream",
     "text": [
      "Train Dataset: Dataset({\n",
      "    features: ['abstract1', 'abstract2', 'score'],\n",
      "    num_rows: 1235\n",
      "})\n",
      "Validation Dataset: Dataset({\n",
      "    features: ['abstract1', 'abstract2', 'score'],\n",
      "    num_rows: 309\n",
      "})\n"
     ]
    }
   ],
   "source": [
    "from datasets import Dataset\n",
    "\n",
    "def convert_to_dict_of_lists(data_tuples):\n",
    "\n",
    "    result = {\n",
    "        'abstract1': [],\n",
    "        'abstract2': [],\n",
    "        'score': [],\n",
    "    }\n",
    "\n",
    "    for abstract1, abstract2, score in data_tuples:\n",
    "        result['abstract1'].append(abstract1)\n",
    "        result['abstract2'].append(abstract2)\n",
    "        result['score'].append(score)\n",
    "\n",
    "    return result\n",
    "\n",
    "train_dataset = Dataset.from_dict(convert_to_dict_of_lists(train_data))\n",
    "test_dataset = Dataset.from_dict(convert_to_dict_of_lists(test_data))\n",
    "\n",
    "\n",
    "# Check the datasets\n",
    "print(\"Train Dataset:\", train_dataset)\n",
    "print(\"Validation Dataset:\", test_dataset)\n"
   ]
  },
  {
   "cell_type": "markdown",
   "id": "96d95f59",
   "metadata": {},
   "source": [
    "### Train the Bi-encoder model"
   ]
  },
  {
   "cell_type": "code",
   "execution_count": 15,
   "id": "617fbff3",
   "metadata": {},
   "outputs": [
    {
     "name": "stderr",
     "output_type": "stream",
     "text": [
      "No sentence-transformers model found with name neuralmind/bert-base-portuguese-cased. Creating a new one with mean pooling.\n",
      "/home/lfc/.local/lib/python3.8/site-packages/huggingface_hub/file_download.py:1132: FutureWarning: `resume_download` is deprecated and will be removed in version 1.0.0. Downloads always resume when possible. If you want to force a new download, use `force_download=True`.\n",
      "  warnings.warn(\n"
     ]
    }
   ],
   "source": [
    "from sentence_transformers import SentenceTransformer, losses\n",
    "\n",
    "\n",
    "model = SentenceTransformer('neuralmind/bert-base-portuguese-cased')\n",
    "loss= losses.CosineSimilarityLoss(model)"
   ]
  },
  {
   "cell_type": "code",
   "execution_count": null,
   "id": "705d0171",
   "metadata": {},
   "outputs": [],
   "source": [
    "from sentence_transformers import SentenceTransformerTrainer, SentenceTransformerTrainingArguments\n",
    "from sentence_transformers.similarity_functions import SimilarityFunction\n",
    "from sentence_transformers.evaluation import EmbeddingSimilarityEvaluator\n",
    "\n",
    "\n",
    "\n",
    "args = SentenceTransformerTrainingArguments(\n",
    "    # Required parameter:\n",
    "    output_dir=\"models/my_model\",\n",
    "    report_to=\"none\",\n",
    "    # Optional training parameters:\n",
    "    num_train_epochs=5,\n",
    "    per_device_train_batch_size=16,\n",
    "    per_device_eval_batch_size=16,\n",
    "    fp16=True,  # Set to False if you get an error that your GPU can't run on FP16\n",
    "    bf16=False,  # Set to True if you have a GPU that supports BF16\n",
    "    # Optional tracking/debugging parameters:\n",
    "    eval_strategy=\"epoch\",\n",
    "    save_strategy=\"epoch\",\n",
    "    save_total_limit=2,\n",
    "    load_best_model_at_end=True,\n",
    ")\n",
    "\n",
    "\n",
    "# Create the evaluator\n",
    "dev_evaluator = EmbeddingSimilarityEvaluator(\n",
    "    test_dataset['text1'],  # Assuming these are the sentence pairs for evaluation\n",
    "    test_dataset['text2'],\n",
    "    test_dataset['score'],  # Assuming this contains the similarity scores\n",
    "    main_similarity=SimilarityFunction.COSINE,\n",
    ")\n",
    "\n",
    "# 6. Create the trainer & start training\n",
    "trainer = SentenceTransformerTrainer(\n",
    "    model=model,\n",
    "    args=args,\n",
    "    train_dataset=train_dataset,\n",
    "    eval_dataset=test_dataset,\n",
    "    loss=loss,\n",
    "    evaluator=dev_evaluator,\n",
    ")\n",
    "\n"
   ]
  },
  {
   "cell_type": "code",
   "execution_count": null,
   "id": "fabb6756",
   "metadata": {},
   "outputs": [],
   "source": [
    "trainer.train()"
   ]
  },
  {
   "cell_type": "markdown",
   "id": "12ad25b0",
   "metadata": {},
   "source": [
    "### Inference"
   ]
  },
  {
   "cell_type": "code",
   "execution_count": 16,
   "id": "84c70367",
   "metadata": {},
   "outputs": [],
   "source": [
    "model = SentenceTransformer(\"lfcc/medlink-bi-encoder\")"
   ]
  },
  {
   "cell_type": "code",
   "execution_count": 17,
   "id": "04f54944",
   "metadata": {},
   "outputs": [],
   "source": [
    "abstracts = [entry[\"abstract\"] for entry in f_papers]\n",
    "titles = [entry[\"title\"] for entry in f_papers]\n",
    "keywords = [entry[\"keywords\"] for entry in f_papers]"
   ]
  },
  {
   "cell_type": "code",
   "execution_count": 19,
   "id": "40c324df",
   "metadata": {},
   "outputs": [],
   "source": [
    "query = \"\"\"S/\n",
    "Identidicação: género feminino, 24 anos.\n",
    "\n",
    "AP:\n",
    "# sem antecedentes conhecidos.\n",
    "\n",
    "MH:\n",
    "# contraceptivo oral\n",
    "\n",
    "HDA: Recorre ao serviço de urgência por nódulos violáceos dolorosos na região pré-tibial bilateral, que estenderam a toda a perna e coxa, com 1 mês de evolução. Três semanas antes do início do quadro, realizou a 2ª dose da vacina contra SARS-CoV-2 Comirnaty® (Pfizer-BioNTech), a mesma que realizou um mês antes. Sem outras queixas, nomeadamente sugestivas de patologia auto-imune ou síndrome onstitucional.\n",
    "\n",
    "O/\n",
    "Exame físico- apirética, sem alterações da orofaringe ou adenopatias, observando-se lesões nodulares em ambas as coxas e pernas, de cor violácea, eritematosas, com 2 cm de maior eixo, dolorosas à palpação.\n",
    "\n",
    "A/\n",
    "# Analiticamente- leucocitose de 12,6 x 109/L com neutrofilia, proteína C reactiva 210 mg/L e velocidade de sedimentação 42 mm/h.\n",
    "# Anticorpo anti-estreptolisina O ne-gativo, serologias para sífilis e vírus Ebstein-Barr, hepatite B e C e VIH negativas. Painel imunológico, com pesquisa de anticorpos anti-nucleares (ANA), anticorpos anti-double--stranded DNA (dsDNA), anticorpos itoplasmáticos anti--neutrófilos (ANCA), complemento, factor reumatóide e anticorpos anti-péptido citrulinado cíclico, negativos.\n",
    "# Marcadores de lesão hepática e função renal sem alterações.\n",
    "# Hemoculturas negativas.\n",
    "# TC TAP sem alterações.\n",
    "\n",
    "Assim, assumido eritema nodoso secundário à administração da vacina contra SARS-CoV-2.\n",
    "Iniciada prednisolona 60 mg/dia.\n",
    "\n",
    "Evolução:\n",
    "# Uma semana depois houve melhoria clínica significativa e diminuição acentuada dos parâmetros inflamatórios, pelo que se iniciou redução gradual de corticoterapia, com resolução completa do quadro ao fim de duas semanas.\n",
    "# Passados seis meses, a doente teve doença ligeira por SARS-CoV-2 e uma semana depois surgiram lesões com características idênticas às do episódio anterior. Iniciou novo ciclo de corticoterapia, com resolução do quadro. Pela exuberância das lesões, a doente foi aconselhada a não repetir imunização com vacina de mRNA contra SARS-CoV-2.\n",
    "# Até à data, não voltou ter infecção por SARS-CoV-2 nem teve ressurgimento das lesões cutâneas.\n",
    "\"\"\""
   ]
  },
  {
   "cell_type": "code",
   "execution_count": 18,
   "id": "e1d58ecc",
   "metadata": {},
   "outputs": [],
   "source": [
    "abstract_embeddings = model.encode(abstracts)"
   ]
  },
  {
   "cell_type": "code",
   "execution_count": 21,
   "id": "d11863a3",
   "metadata": {},
   "outputs": [
    {
     "name": "stdout",
     "output_type": "stream",
     "text": [
      "Titulo:  Um Caso Clínico de Síndrome de Evans Provavelmente Desencadeada por Vacina BNT162b2 SARS-CoV-2\n",
      "Keywords:  Anemia Hemolítica Autoimune/induzida quimicamente, Vacina BNT162b2, Vacinas contra COVID-19\n",
      "Score:  tensor(0.6316)\n",
      "____________________________________________________________________________________________________\n",
      "Titulo:  Púrpura Trombocitopénica Imune Após Vacina SARS-CoV-2 da Moderna®: Um Estudo de Caso\n",
      "Keywords:  COVID-19, Púrpura Trombocitopênica Idiopática/induzida quimicamente, SARS-CoV-2, Vacina de mRNA-1273 contra 2019-nCoV, Vacinas contra COVID-19/efeitos adversos\n",
      "Score:  tensor(0.6271)\n",
      "____________________________________________________________________________________________________\n",
      "Titulo:  DISFUNÇÃO MULTIORGÂNICA PARA ALÉM DA SÉPSIS: LINFOHISTIOCITOSE HEMOFAGOCÍTICA.\n",
      "Keywords:  Disfunção multiorgânica; Linfohistiocitose hemofagocítica; Linfoma de células B; Síndrome de Ativação Macrofágica; Sépsis\n",
      "Score:  tensor(0.5970)\n",
      "____________________________________________________________________________________________________\n",
      "Titulo:  Acute Pancreatitis Associated with Hypercalcemia as the Initial Presentation of Primary Hyperparathyroidism\n",
      "Keywords:  Hipercalcémia, Hiperparatiroidismo Primário/complicações, Pancreatite/etiologia\n",
      "Score:  tensor(0.5910)\n",
      "____________________________________________________________________________________________________\n",
      "Titulo:  HIPERFERRITINÉMIA E A DOENÇA DE STILL DO ADULTO\n",
      "Keywords:  hiperferritinémia, doença Still do adulto\n",
      "Score:  tensor(0.5857)\n",
      "____________________________________________________________________________________________________\n",
      "Titulo:  QUANDO A CURA DA INFECÇÃO RESOLVE TUDO\n",
      "Keywords:  Crioglobulinemia, Hepatite C, Antivíricos de acção directa\n",
      "Score:  tensor(0.5854)\n",
      "____________________________________________________________________________________________________\n",
      "Titulo:  SÍNDROME ANTI-SINTETASE  DA CLÍNICA AO DIAGNÓSTICO\n",
      "Keywords:  Miosite, Dermatomiosite, Doenças Pulmonares Intersticiais\n",
      "Score:  tensor(0.5700)\n",
      "____________________________________________________________________________________________________\n",
      "Titulo:  UM CASO DE ESTRIDOR APÓS PNEUMONIA POR SARS-COV-2\n",
      "Keywords:  COVID-19, SARS-CoV-2, estridor, cordas vocais\n",
      "Score:  tensor(0.5620)\n",
      "____________________________________________________________________________________________________\n",
      "Titulo:  Encefalopatia com Delirium e Convulsões em Doente com COVID-19 Grave\n",
      "Keywords:  COVID-19, Delirium, Encefalopatia, Pneumonia Organizativa, SARS-CoV-2\n",
      "Score:  tensor(0.5603)\n",
      "____________________________________________________________________________________________________\n",
      "Titulo:  Síndrome de Lise Tumoral em Carcinoma Hepatocelular Multifocal sob Sorafenib e Infeção SARS-CoV-2\n",
      "Keywords:  Carcinoma Hepatocelular, COVID-19, Rasburicase, ; SARS-CoV-2, Síndrome de Lise Tumoral, Sorafenib\n",
      "Score:  tensor(0.5598)\n",
      "____________________________________________________________________________________________________\n",
      "Titulo:  LESÃO HEPÁTICA INDUZIDA POR FÁRMACOS - UM CASO DE TOXICIDADE AO ETORICOXIB\n",
      "Keywords:  lesão hepática induzida por fármacos, etoricoxib\n",
      "Score:  tensor(0.5594)\n",
      "____________________________________________________________________________________________________\n",
      "Titulo:  DÉFICE DE VITAMINA B12 NO IDOSO POLIMEDICADO\n",
      "Keywords:  Hipotiroidismo; Idoso; Metformina; Polimedicação; Vitamina B12\n",
      "Score:  tensor(0.5582)\n",
      "____________________________________________________________________________________________________\n",
      "Titulo:  SÍNDROME PLATIPNEIA-ORTODEOXIA COM FORAMEN OVAL PATENTE NUM DOENTE COM PNEUMONIA INSTERSTICIAL GRAVE A SARS-COV-2. CASO CLÍNICO.\n",
      "Keywords:  COVID-19; Foramen Ovale Patente; Ortodeoxia; Platipneia; SARS-CoV-2; Sindrome Platipneia-ortodeoxia.\n",
      "Score:  tensor(0.5540)\n",
      "____________________________________________________________________________________________________\n",
      "Titulo:  Sinal do Coldre e Eritema Flagelado como Apresentação Inicial de Dermatomiosite Grave\n",
      "Keywords:  Dermatomiosite/diagnóstico, Dermatomiosite/tratamento farmacológico, Eritema/etiologia\n",
      "Score:  tensor(0.5540)\n",
      "____________________________________________________________________________________________________\n",
      "Titulo:  DOENÇA DE STILL DO ADULTO  RELATO DE UM CASO CLÍNICO\n",
      "Keywords:  Doença de Still do Adulto, febre, erupção cutânea, artrite, ferritina\n",
      "Score:  tensor(0.5527)\n",
      "____________________________________________________________________________________________________\n"
     ]
    }
   ],
   "source": [
    "from sentence_transformers import util\n",
    "import torch\n",
    "\n",
    "query_embedding = model.encode(query)\n",
    "\n",
    "# Calculate the similarity between the query and the abstracts\n",
    "cosine_scores = util.pytorch_cos_sim(query_embedding, abstract_embeddings)\n",
    "retrieval_results = torch.topk(cosine_scores, k=15)\n",
    "\n",
    "for value, index in zip(retrieval_results.values[0], retrieval_results.indices[0]):\n",
    "    print(\"Titulo: \", titles[index])\n",
    "    print(\"Keywords: \", keywords[index])\n",
    "    print(\"Score: \", value )\n",
    "    print(\"_\"*100)\n"
   ]
  }
 ],
 "metadata": {
  "kernelspec": {
   "display_name": "Python 3",
   "language": "python",
   "name": "python3"
  },
  "language_info": {
   "codemirror_mode": {
    "name": "ipython",
    "version": 3
   },
   "file_extension": ".py",
   "mimetype": "text/x-python",
   "name": "python",
   "nbconvert_exporter": "python",
   "pygments_lexer": "ipython3",
   "version": "3.8.10"
  }
 },
 "nbformat": 4,
 "nbformat_minor": 5
}
